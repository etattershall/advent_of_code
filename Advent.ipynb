{
 "cells": [
  {
   "cell_type": "markdown",
   "id": "b13e5c08-5ca0-4152-913f-10596ecbb91e",
   "metadata": {},
   "source": [
    "# Advent of Code 2024"
   ]
  },
  {
   "cell_type": "code",
   "execution_count": 43,
   "id": "7e07643c-20e4-4cbf-9234-8dee8570980a",
   "metadata": {},
   "outputs": [],
   "source": [
    "import re\n",
    "import numpy as np"
   ]
  },
  {
   "cell_type": "markdown",
   "id": "e6b291be-13b5-40f6-9f98-78952cff10d1",
   "metadata": {},
   "source": [
    "## Day 1"
   ]
  },
  {
   "cell_type": "code",
   "execution_count": 2,
   "id": "9104ffc5-4073-4eb5-abaf-42dcdb30e744",
   "metadata": {},
   "outputs": [
    {
     "name": "stdout",
     "output_type": "stream",
     "text": [
      "Part 1 answer is 1660292\n",
      "Part 2 answer is 22776016\n"
     ]
    }
   ],
   "source": [
    "with open('data/day1.txt') as f:\n",
    "    lines = f.read().splitlines() \n",
    "\n",
    "# Format into two lists\n",
    "list1 = []\n",
    "list2 = []\n",
    "for line in lines:\n",
    "    a, b = line.split(\"   \")\n",
    "    list1.append(int(a))\n",
    "    list2.append(int(b))\n",
    "\n",
    "# Sort lists in ascending order\n",
    "list1 = sorted(list1)\n",
    "list2 = sorted(list2)\n",
    "\n",
    "distance = 0\n",
    "for a, b in zip(list1, list2):\n",
    "    distance += abs(a - b)\n",
    "\n",
    "print(f\"Part 1 answer is {distance}\")\n",
    "\n",
    "similarity = 0\n",
    "for a in list1:\n",
    "    # Count occurences of a in list2 then multiply by a\n",
    "    similarity += a*len([i for i, x in enumerate(list2) if x == a])\n",
    "\n",
    "print(f\"Part 2 answer is {similarity}\")"
   ]
  },
  {
   "cell_type": "markdown",
   "id": "ecb633ed-02c0-4428-b2f3-8c9bb1954716",
   "metadata": {},
   "source": [
    "## Day 2"
   ]
  },
  {
   "cell_type": "code",
   "execution_count": 40,
   "id": "47a3304a-e817-47fb-bc76-ffbee2197c8f",
   "metadata": {},
   "outputs": [
    {
     "name": "stdout",
     "output_type": "stream",
     "text": [
      "Part 1 answer is 524\n",
      "Part 2 answer is 569\n"
     ]
    }
   ],
   "source": [
    "def is_safe(line):\n",
    "    line = np.array([int(l) for l in line])\n",
    "    diff = line[1:] - line[:-1]\n",
    "\n",
    "    # disqualified if any diff is < 1 or > 3\n",
    "    if (np.sum(np.abs(diff) > 3) == 0) and (np.sum(np.abs(diff) < 1) == 0):\n",
    "        # disqualified if not all ascending or all descending\n",
    "        if (np.sum(diff > 0) == 0) or (np.sum(diff < 0) == 0):\n",
    "            return True\n",
    "    else:\n",
    "        return False\n",
    "\n",
    "with open('data/day2.txt') as f:\n",
    "    lines = f.read().splitlines()\n",
    "\n",
    "lines = [l.split(\" \") for l in lines]\n",
    "\n",
    "# Part 1\n",
    "safe = 0\n",
    "for line in lines:\n",
    "    if is_safe(line):\n",
    "        safe += 1\n",
    "\n",
    "print(f\"Part 1 answer is {safe}\")\n",
    "\n",
    "# Part 2\n",
    "safe = 0\n",
    "for line in lines:\n",
    "    for i in range(len(line)):\n",
    "        # Just be lazy and make lots of copies of the list with a different item removed each time\n",
    "        newline = line.copy()\n",
    "        newline.pop(i)\n",
    "        # If removing an item ever makes the list safe, it's safe\n",
    "        if is_safe(newline):\n",
    "            safe += 1\n",
    "            break\n",
    "\n",
    "print(f\"Part 2 answer is {safe}\")"
   ]
  },
  {
   "cell_type": "markdown",
   "id": "6bc8ac57-6785-4fc9-ad25-b99659caf5c0",
   "metadata": {},
   "source": [
    "## Day 3"
   ]
  },
  {
   "cell_type": "code",
   "execution_count": 87,
   "id": "0f73f02e-8fe1-4b62-b5a7-87df3d70e63c",
   "metadata": {},
   "outputs": [
    {
     "name": "stdout",
     "output_type": "stream",
     "text": [
      "Part 1 answer is 170778545\n",
      "Part 2 answer is 82868252\n"
     ]
    }
   ],
   "source": [
    "with open('data/day3.txt') as f:\n",
    "    line = f.read()\n",
    "\n",
    "# Extract all strings matching the pattern + capture groups\n",
    "patterns = re.findall(r\"mul\\((\\d{1,3}),(\\d{1,3})\\)\", line)\n",
    "\n",
    "total = 0\n",
    "for pattern in patterns:\n",
    "    total += int(pattern[0])*int(pattern[1])\n",
    "\n",
    "print(f\"Part 1 answer is {total}\")\n",
    "\n",
    "# Part 2\n",
    "patterns = re.findall(r\"(mul\\((\\d{1,3}),(\\d{1,3})\\)|do\\(\\)|don't\\(\\))\", line)\n",
    "\n",
    "do = True\n",
    "total = 0\n",
    "for pattern in patterns:\n",
    "    if pattern[0] == \"don't()\":\n",
    "        do = False\n",
    "    elif pattern[0] == \"do()\":\n",
    "        do = True\n",
    "    else:\n",
    "        if do:\n",
    "            total += int(pattern[1])*int(pattern[2])\n",
    "\n",
    "print(f\"Part 2 answer is {total}\")"
   ]
  },
  {
   "cell_type": "markdown",
   "id": "1f3705e3-35e0-4caf-9a43-2139e2c2ea25",
   "metadata": {},
   "source": [
    "## Day 4"
   ]
  },
  {
   "cell_type": "code",
   "execution_count": 153,
   "id": "fd5619f2-2ecf-4f82-a1cc-cafa424c97b9",
   "metadata": {},
   "outputs": [
    {
     "name": "stdout",
     "output_type": "stream",
     "text": [
      "Part 1 answer is 2642\n",
      "Part 2 answer is 1974\n"
     ]
    }
   ],
   "source": [
    "def count_string_in_array(line, string=\"XMAS\"):\n",
    "    # Turn it back into a string\n",
    "    line = \"\".join(line)\n",
    "    return len(re.findall(string, line))\n",
    "    \n",
    "with open('data/day4.txt') as f:\n",
    "    lines = f.read().splitlines()\n",
    "\n",
    "lines = [list(line) for line in lines]\n",
    "lines = np.array(lines)\n",
    "\n",
    "count = 0\n",
    "# Find horizontal forwards and backwards\n",
    "for line in lines:\n",
    "    count += count_string_in_array(line)\n",
    "    count += count_string_in_array(line[::-1])\n",
    "\n",
    "# Vertical\n",
    "for line in lines.transpose():\n",
    "    count += count_string_in_array(line)\n",
    "    count += count_string_in_array(line[::-1])\n",
    "\n",
    "for i in range(-len(lines), len(lines)):\n",
    "    # Diagonal one way\n",
    "    line = lines.diagonal(i)\n",
    "    count += count_string_in_array(line)\n",
    "    count += count_string_in_array(line[::-1])\n",
    "    # Diagonal the other way\n",
    "    line = np.fliplr(lines).diagonal(i)\n",
    "    count += count_string_in_array(line)\n",
    "    count += count_string_in_array(line[::-1])\n",
    "\n",
    "print(f\"Part 1 answer is {count}\")\n",
    "\n",
    "# Find every 3x3 block\n",
    "# Sliding filter convolution\n",
    "count = 0\n",
    "for i in range(lines.shape[0] - 2):\n",
    "    for j in range(lines.shape[1] - 2):\n",
    "        # Here is the 3 x 3 array\n",
    "        grid = lines[i:i+3, j:j+3]\n",
    "        diag1 = \"\".join(grid.diagonal())\n",
    "        diag2 = \"\".join(np.fliplr(grid).diagonal())\n",
    "\n",
    "        if (diag1 == \"MAS\") or (diag1 == \"SAM\"):\n",
    "            if (diag2 == \"MAS\") or (diag2 == \"SAM\"):\n",
    "                count += 1\n",
    "\n",
    "print(f\"Part 2 answer is {count}\")"
   ]
  },
  {
   "cell_type": "code",
   "execution_count": null,
   "id": "127ed341-a33f-4ea0-bc36-e8047ab7e46f",
   "metadata": {},
   "outputs": [],
   "source": []
  }
 ],
 "metadata": {
  "kernelspec": {
   "display_name": "Python 3 (ipykernel)",
   "language": "python",
   "name": "python3"
  },
  "language_info": {
   "codemirror_mode": {
    "name": "ipython",
    "version": 3
   },
   "file_extension": ".py",
   "mimetype": "text/x-python",
   "name": "python",
   "nbconvert_exporter": "python",
   "pygments_lexer": "ipython3",
   "version": "3.12.2"
  }
 },
 "nbformat": 4,
 "nbformat_minor": 5
}
